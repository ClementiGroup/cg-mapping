{
 "cells": [
  {
   "cell_type": "code",
   "execution_count": 1,
   "metadata": {},
   "outputs": [
    {
     "data": {
      "text/plain": [
       "<module 'AnalyticalMappingEntropyClass' from '/import/a12/users/clarkt/mapping-entropy/cg-mapping/methods/AnalyticalMappingEntropyClass.py'>"
      ]
     },
     "execution_count": 1,
     "metadata": {},
     "output_type": "execute_result"
    }
   ],
   "source": [
    "import numpy as np\n",
    "import VAMPClass\n",
    "import AnalyticalMappingEntropyClass\n",
    "from importlib import reload\n",
    "import networkx as nx\n",
    "import matplotlib.pyplot as plt\n",
    "%matplotlib inline\n",
    "reload(VAMPClass)\n",
    "reload(AnalyticalMappingEntropyClass)"
   ]
  },
  {
   "cell_type": "code",
   "execution_count": 2,
   "metadata": {},
   "outputs": [],
   "source": [
    "kirchoff_matrix = [[ 1, -1,  0, 0],\n",
    "                   [-1, 11,-10, 0],\n",
    "                   [ 0,-10, 11,-1],\n",
    "                   [ 0,  0,- 1, 1]]"
   ]
  },
  {
   "cell_type": "code",
   "execution_count": 3,
   "metadata": {},
   "outputs": [],
   "source": [
    "vamp = VAMPClass.VAMP(kirchoff_matrix,n_beads=2)\n",
    "vamp.compute_vamp(100)\n",
    "vamp_results,lagtime = vamp.return_vamp_scores()"
   ]
  },
  {
   "cell_type": "code",
   "execution_count": 4,
   "metadata": {},
   "outputs": [],
   "source": [
    "ame = AnalyticalMappingEntropyClass.AME(kirchoff_matrix)\n",
    "ame.compute_ame()\n",
    "ame_results = ame.return_ame_scores()\n",
    "vp_results = ame.return_vp_scores()"
   ]
  },
  {
   "cell_type": "code",
   "execution_count": 5,
   "metadata": {},
   "outputs": [
    {
     "data": {
      "image/png": "[encoded data removed]",
      "text/plain": [
       "<Figure size 432x288 with 3 Axes>"
      ]
     },
     "metadata": {
      "needs_background": "light"
     },
     "output_type": "display_data"
    }
   ],
   "source": [
    "results = [ame_results,vp_results,vamp_results]\n",
    "titles = ['ame','vp','vamp']\n",
    "fig,ax = plt.subplots(nrows=1,ncols=len(titles),tight_layout=True)\n",
    "\n",
    "for ia,aa in enumerate(ax):\n",
    "    keys = list(results[ia].keys())\n",
    "    values = results[ia].values()\n",
    "    y = np.arange(len(values))\n",
    "    aa.barh(y,values)\n",
    "    aa.set_yticks(y, keys,fontsize=8,rotation=0)\n",
    "    aa.set_title(titles[ia])\n"
   ]
  },
  {
   "cell_type": "code",
   "execution_count": null,
   "metadata": {},
   "outputs": [],
   "source": []
  },
  {
   "cell_type": "code",
   "execution_count": null,
   "metadata": {},
   "outputs": [],
   "source": []
  },
  {
   "cell_type": "code",
   "execution_count": null,
   "metadata": {},
   "outputs": [],
   "source": []
  },
  {
   "cell_type": "code",
   "execution_count": null,
   "metadata": {},
   "outputs": [],
   "source": []
  },
  {
   "cell_type": "code",
   "execution_count": null,
   "metadata": {},
   "outputs": [],
   "source": []
  },
  {
   "cell_type": "code",
   "execution_count": null,
   "metadata": {},
   "outputs": [],
   "source": []
  },
  {
   "cell_type": "code",
   "execution_count": null,
   "metadata": {},
   "outputs": [],
   "source": []
  },
  {
   "cell_type": "code",
   "execution_count": null,
   "metadata": {},
   "outputs": [],
   "source": []
  }
 ],
 "metadata": {
  "kernelspec": {
   "display_name": "Python 3.9.10 ('markov-workshop': conda)",
   "language": "python",
   "name": "python3"
  },
  "language_info": {
   "codemirror_mode": {
    "name": "ipython",
    "version": 3
   },
   "file_extension": ".py",
   "mimetype": "text/x-python",
   "name": "python",
   "nbconvert_exporter": "python",
   "pygments_lexer": "ipython3",
   "version": "3.9.10"
  },
  "orig_nbformat": 4,
  "vscode": {
   "interpreter": {
    "hash": "5693266a11382ac3270798dcbf76e5151d5c89349378aae33407398ab404011a"
   }
  }
 },
 "nbformat": 4,
 "nbformat_minor": 2
}

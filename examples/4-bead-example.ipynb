{
 "cells": [
  {
   "cell_type": "code",
   "execution_count": 1,
   "metadata": {},
   "outputs": [],
   "source": [
    "import sys\n",
    "\n",
    "sys.path.insert(0, \"../methods\")\n",
    "\n",
    "import numpy as np\n",
    "from VAMPClass import VAMP\n",
    "from AnalyticalMappingEntropyClass import AME\n",
    "import networkx as nx\n",
    "import matplotlib.pyplot as plt\n",
    "\n",
    "%matplotlib inline"
   ]
  },
  {
   "cell_type": "code",
   "execution_count": null,
   "metadata": {},
   "outputs": [],
   "source": []
  },
  {
   "cell_type": "code",
   "execution_count": null,
   "metadata": {},
   "outputs": [],
   "source": []
  },
  {
   "cell_type": "code",
   "execution_count": 2,
   "metadata": {},
   "outputs": [],
   "source": [
    "# Soft Center\n",
    "\n",
    "kirchoff_matrix = [[ 10,-10,  0,  0], \n",
    "                   [-10, 11, -1,  0], \n",
    "                   [  0, -1, 11,-10], \n",
    "                   [  0,  0,-10, 10]]\n",
    "# Soft edges\n",
    "\n",
    "# kirchoff_matrix = [[  1, -1,  0,  0], \n",
    "#                    [ -1,  2, -1,  0], \n",
    "#                    [  0, -1,  2, -1], \n",
    "#                    [  0,  0, -1,  1]]"
   ]
  },
  {
   "cell_type": "code",
   "execution_count": 3,
   "metadata": {},
   "outputs": [],
   "source": [
    "vamp = VAMP(kirchoff_matrix, n_beads=2)\n",
    "vamp.compute_vamp(100)\n",
    "vamp_results, lagtime = vamp.return_vamp_scores()"
   ]
  },
  {
   "cell_type": "code",
   "execution_count": 4,
   "metadata": {},
   "outputs": [],
   "source": [
    "ame = AME(kirchoff_matrix)\n",
    "ame.compute_ame()\n",
    "ame_results = ame.return_ame_scores()\n",
    "vp_results = ame.return_vp_scores()"
   ]
  },
  {
   "cell_type": "code",
   "execution_count": 5,
   "metadata": {},
   "outputs": [
    {
     "data": {
      "image/png": "[encoded data removed]",
      "text/plain": [
       "<Figure size 432x288 with 3 Axes>"
      ]
     },
     "metadata": {
      "needs_background": "light"
     },
     "output_type": "display_data"
    }
   ],
   "source": [
    "results = [ame_results, vp_results, vamp_results]\n",
    "titles = [\"ame\", \"vp\", \"vamp\"]\n",
    "fig, ax = plt.subplots(nrows=1, ncols=len(titles), tight_layout=True)\n",
    "\n",
    "for ia, aa in enumerate(ax):\n",
    "    keys = list(results[ia].keys())\n",
    "    values = results[ia].values()\n",
    "    y = np.arange(len(values))\n",
    "    aa.barh(y, values)\n",
    "    aa.set_yticks(y, keys, fontsize=8, rotation=0)\n",
    "    aa.set_title(titles[ia])"
   ]
  },
  {
   "cell_type": "code",
   "execution_count": 6,
   "metadata": {},
   "outputs": [],
   "source": [
    "## Determine optimal stratgies\n",
    "optimal_mappings = {}\n",
    "for i_r,result in enumerate(results):\n",
    "    optimal_mappings[titles[i_r]] = []\n",
    "    keys = list(results[i_r].keys())\n",
    "    values = np.array(list(results[i_r].values()))\n",
    "    max_inds = np.where(values==values.max())[0]\n",
    "    \n",
    "    ## Handle degeneracies\n",
    "    for max_ind in max_inds:\n",
    "        max_ind = int(max_ind)\n",
    "        optimal_mappings[titles[i_r]].append(keys[max_ind])"
   ]
  },
  {
   "cell_type": "code",
   "execution_count": 25,
   "metadata": {},
   "outputs": [],
   "source": [
    "def color_nodes(n_atoms,optimal_mapping):\n",
    "    colors = n_atoms*['b']\n",
    "    for inds in optimal_mapping:\n",
    "        for ind in inds:\n",
    "            colors[ind] = 'r'\n",
    "    return colors"
   ]
  },
  {
   "cell_type": "code",
   "execution_count": 28,
   "metadata": {},
   "outputs": [
    {
     "data": {
      "image/png": "[encoded data removed]",
      "text/plain": [
       "<Figure size 432x288 with 3 Axes>"
      ]
     },
     "metadata": {},
     "output_type": "display_data"
    }
   ],
   "source": [
    "fig,ax = plt.subplots(ncols=len(titles),tight_layout=True)\n",
    "graph = vamp.graph\n",
    "\n",
    "for ia,aa in enumerate(ax):\n",
    "    colors = color_nodes(vamp.n_atoms,optimal_mappings[titles[ia]])\n",
    "    nx.draw_networkx(graph,node_color=colors,ax=aa)\n",
    "    aa.set_title(titles[ia])"
   ]
  },
  {
   "cell_type": "code",
   "execution_count": null,
   "metadata": {},
   "outputs": [],
   "source": []
  }
 ],
 "metadata": {
  "kernelspec": {
   "display_name": "Python 3.9.10 ('markov-workshop': conda)",
   "language": "python",
   "name": "python3"
  },
  "language_info": {
   "codemirror_mode": {
    "name": "ipython",
    "version": 3
   },
   "file_extension": ".py",
   "mimetype": "text/x-python",
   "name": "python",
   "nbconvert_exporter": "python",
   "pygments_lexer": "ipython3",
   "version": "3.9.10"
  },
  "orig_nbformat": 4,
  "vscode": {
   "interpreter": {
    "hash": "5693266a11382ac3270798dcbf76e5151d5c89349378aae33407398ab404011a"
   }
  }
 },
 "nbformat": 4,
 "nbformat_minor": 2
}

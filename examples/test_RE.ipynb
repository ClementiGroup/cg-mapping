{
 "cells": [
  {
   "cell_type": "code",
   "execution_count": 1,
   "id": "4110f6f1",
   "metadata": {},
   "outputs": [],
   "source": [
    "import sys\n",
    "\n",
    "sys.path.insert(0, \"../simulation\")\n",
    "sys.path.insert(0, \"../methods\")\n",
    "\n",
    "import numpy as np\n",
    "from ReconstructionErrorClass import RE\n",
    "from AnalyticalMappingEntropyClass import AME\n",
    "from SimulationClass import Simulation\n",
    "from TicaTimescalesClass import TICA\n",
    "#from _methods_utils import _mapping_combinations\n",
    "import networkx as nx\n",
    "import matplotlib.pyplot as plt\n",
    "plt.rcParams['font.size'] = 15\n",
    "\n",
    "%matplotlib inline"
   ]
  },
  {
   "cell_type": "code",
   "execution_count": 2,
   "id": "ad18e5f4",
   "metadata": {},
   "outputs": [
    {
     "name": "stdout",
     "output_type": "stream",
     "text": [
      "(9900, 13, 3)\n"
     ]
    }
   ],
   "source": [
    "traj = np.load('./model_protein_coords.npy')\n",
    "print(traj.shape)"
   ]
  },
  {
   "cell_type": "code",
   "execution_count": 3,
   "id": "186ffbcb",
   "metadata": {},
   "outputs": [],
   "source": [
    "RE_model = RE(traj=traj, device='cuda')"
   ]
  },
  {
   "cell_type": "code",
   "execution_count": 4,
   "id": "6dee7840",
   "metadata": {
    "scrolled": true
   },
   "outputs": [],
   "source": [
    "RE_model.train_RE(batch_size=128,\n",
    "                  lr_non_linear=3e-4,\n",
    "                  max_epoch=301,\n",
    "                  epoch_nonlinear=150,\n",
    "                  loss_print=False) # it will take a while"
   ]
  },
  {
   "cell_type": "code",
   "execution_count": 5,
   "id": "2ef3e30f",
   "metadata": {},
   "outputs": [
    {
     "data": {
      "text/plain": [
       "(array([10., 10.,  7.,  9.,  6.,  8.,  7.,  7.,  3.,  0.,  5.,  4.,  1.,\n",
       "         0.,  0.,  0.,  0.,  0.,  0.,  1.]),\n",
       " array([0.21511312, 0.22732144, 0.23952976, 0.25173807, 0.26394639,\n",
       "        0.27615471, 0.28836302, 0.30057134, 0.31277966, 0.32498798,\n",
       "        0.33719629, 0.34940461, 0.36161293, 0.37382124, 0.38602956,\n",
       "        0.39823788, 0.41044619, 0.42265451, 0.43486283, 0.44707114,\n",
       "        0.45927946]),\n",
       " <BarContainer object of 20 artists>)"
      ]
     },
     "execution_count": 5,
     "metadata": {},
     "output_type": "execute_result"
    },
    {
     "data": {
      "image/png": "[encoded data removed]",
      "text/plain": [
       "<Figure size 432x288 with 1 Axes>"
      ]
     },
     "metadata": {
      "needs_background": "light"
     },
     "output_type": "display_data"
    }
   ],
   "source": [
    "loss_tests = []\n",
    "for key in RE_model.loss_tests.keys():\n",
    "    loss_tests.append(np.mean(RE_model.loss_tests[key][-5::]))\n",
    "    \n",
    "plt.hist(loss_tests, bins=20)"
   ]
  },
  {
   "cell_type": "code",
   "execution_count": null,
   "id": "902ad994",
   "metadata": {},
   "outputs": [],
   "source": []
  }
 ],
 "metadata": {
  "kernelspec": {
   "display_name": "Python 3 (ipykernel)",
   "language": "python",
   "name": "python3"
  },
  "language_info": {
   "codemirror_mode": {
    "name": "ipython",
    "version": 3
   },
   "file_extension": ".py",
   "mimetype": "text/x-python",
   "name": "python",
   "nbconvert_exporter": "python",
   "pygments_lexer": "ipython3",
   "version": "3.9.12"
  }
 },
 "nbformat": 4,
 "nbformat_minor": 5
}

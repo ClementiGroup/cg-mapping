{
 "cells": [
  {
   "cell_type": "code",
   "execution_count": 1,
   "metadata": {},
   "outputs": [],
   "source": [
    "import sys\n",
    "\n",
    "sys.path.insert(0, \"../simulation\")\n",
    "sys.path.insert(0, \"../methods\")\n",
    "\n",
    "import numpy as np\n",
    "from VAMPClass import VAMP\n",
    "from AnalyticalMappingEntropyClass import AME\n",
    "from SimulationClass import Simulation\n",
    "from TicaTimescalesClass import TICA\n",
    "from _methods_utils import _slicing_mapping_combinations, _symmetric_mapping_combinations\n",
    "import networkx as nx\n",
    "import matplotlib.pyplot as plt\n",
    "plt.rcParams['font.size'] = 15\n",
    "\n",
    "%matplotlib inline\n",
    "\n",
    "# from importlib import reload"
   ]
  },
  {
   "cell_type": "code",
   "execution_count": 2,
   "metadata": {},
   "outputs": [],
   "source": [
    "kirchoff_matrix = np.load('2erl-10A-kirchoff-matrix.npy')\n",
    "n_atoms = len(kirchoff_matrix)\n",
    "# simulation = Simulation(kirchoff_matrix, save_frequency = 5000)\n",
    "# simulation.run_simulation(10000000)"
   ]
  },
  {
   "cell_type": "code",
   "execution_count": null,
   "metadata": {},
   "outputs": [],
   "source": []
  },
  {
   "cell_type": "code",
   "execution_count": 11,
   "metadata": {},
   "outputs": [],
   "source": [
    "n_beads = 4\n",
    "lagtime = 100\n",
    "\n",
    "ame = AME(kirchoff_matrix, n_beads = n_beads, mapping='average')\n",
    "ame.compute_ame()\n",
    "ame_results = ame.return_ame_scores()\n",
    "vp_results = ame.return_vp_scores()"
   ]
  },
  {
   "cell_type": "code",
   "execution_count": 12,
   "metadata": {},
   "outputs": [],
   "source": [
    "vamp = VAMP(kirchoff_matrix, n_beads = n_beads, mapping='average')\n",
    "vamp.compute_vamp(lagtime)\n",
    "vamp_results, _ = vamp.return_vamp_scores()"
   ]
  },
  {
   "cell_type": "code",
   "execution_count": 13,
   "metadata": {},
   "outputs": [
    {
     "data": {
      "text/plain": [
       "((3833, -76.76509828810053),\n",
       " (702, 0.10473740768095353),\n",
       " (480, 1.7619306088989939))"
      ]
     },
     "execution_count": 13,
     "metadata": {},
     "output_type": "execute_result"
    }
   ],
   "source": [
    "ame.return_optimal_ame_score(), ame.return_optimal_vp_score(), vamp.return_optimal_vamp_score()"
   ]
  },
  {
   "cell_type": "code",
   "execution_count": 14,
   "metadata": {},
   "outputs": [],
   "source": [
    "all_atom_tica = TICA(\n",
    "    kirchoff_matrix = kirchoff_matrix,\n",
    "    n_beads = n_atoms,\n",
    ")\n",
    "\n",
    "all_atom_mapping_matrix = np.eye(n_atoms)\n",
    "all_atom_tica.compute_timescale_modes(all_atom_mapping_matrix, lagtime)\n",
    "all_atom_timescales = all_atom_tica.return_timescales()"
   ]
  },
  {
   "cell_type": "code",
   "execution_count": 20,
   "metadata": {},
   "outputs": [],
   "source": [
    "# mapping_matrices = _mapping_combinations(n_atoms, n_beads)\n",
    "vamp_tica = TICA(\n",
    "    kirchoff_matrix = kirchoff_matrix,\n",
    "    n_beads = n_beads\n",
    ")\n",
    "opt_ind,_ = vamp.return_optimal_vamp_score()\n",
    "mapping_matrix = vamp._mapping_matrices[opt_ind]\n",
    "    \n",
    "vamp_tica.compute_timescale_modes(mapping_matrix, lagtime)\n",
    "vamp_timescales = vamp_tica.return_timescales()"
   ]
  },
  {
   "cell_type": "code",
   "execution_count": null,
   "metadata": {},
   "outputs": [],
   "source": []
  },
  {
   "cell_type": "code",
   "execution_count": 16,
   "metadata": {},
   "outputs": [],
   "source": [
    "ame_tica = TICA(\n",
    "    kirchoff_matrix = kirchoff_matrix,\n",
    "    n_beads = n_beads\n",
    ")\n",
    "opt_ind,_ = ame.return_optimal_ame_score()\n",
    "mapping_matrix = ame._mapping_matrices[opt_ind]\n",
    "\n",
    "ame_tica.compute_timescale_modes(mapping_matrix, lagtime)\n",
    "ame_timescales = ame_tica.return_timescales()"
   ]
  },
  {
   "cell_type": "code",
   "execution_count": 22,
   "metadata": {},
   "outputs": [],
   "source": [
    "vp_tica = TICA(\n",
    "    kirchoff_matrix = kirchoff_matrix,\n",
    "    n_beads = n_beads\n",
    ")\n",
    "opt_ind,_ = ame.return_optimal_vp_score()\n",
    "mapping_matrix = ame._mapping_matrices[opt_ind]\n",
    "\n",
    "vp_tica.compute_timescale_modes(mapping_matrix, lagtime)\n",
    "vp_timescales = vp_tica.return_timescales()"
   ]
  },
  {
   "cell_type": "code",
   "execution_count": null,
   "metadata": {},
   "outputs": [],
   "source": []
  },
  {
   "cell_type": "code",
   "execution_count": 19,
   "metadata": {},
   "outputs": [
    {
     "data": {
      "text/plain": [
       "<matplotlib.legend.Legend at 0x7fc00c35cfd0>"
      ]
     },
     "execution_count": 19,
     "metadata": {},
     "output_type": "execute_result"
    },
    {
     "data": {
      "image/png": "[encoded data removed]",
      "text/plain": [
       "<Figure size 720x360 with 1 Axes>"
      ]
     },
     "metadata": {
      "needs_background": "light"
     },
     "output_type": "display_data"
    }
   ],
   "source": [
    "fig,ax = plt.subplots(figsize=(10,5))\n",
    "xvis = 6\n",
    "#\n",
    "x = np.arange(0,len(all_atom_timescales))\n",
    "ax.scatter(x, all_atom_timescales, s=200, color='blue', alpha=0.6, label='AA')\n",
    "#\n",
    "x = np.arange(0,len(vamp_timescales))\n",
    "ax.scatter(x, vamp_timescales, s=200, color='red', alpha=0.6, label='VAMP')\n",
    "ax.scatter(x, ame_timescales, s=200, color='green', alpha=0.6, label='AME')\n",
    "ax.scatter(x, vp_timescales, s=200, color='purple', alpha=0.6, label='VP')\n",
    "#\n",
    "for ix in range(xvis):\n",
    "    ax.axvline(ix,color='gray',linestyle='--')\n",
    "\n",
    "ax.set_xticks(range(xvis))\n",
    "ax.set_ylabel('Timescales')\n",
    "ax.set_xlabel('Lagtime (timesteps)')\n",
    "ax.set_xlim(-0.5,xvis-0.5)\n",
    "ax.legend(loc='upper right')\n",
    "# fig.savefig('tica-timescale-2erl.png',dpi=300)"
   ]
  },
  {
   "cell_type": "code",
   "execution_count": null,
   "metadata": {},
   "outputs": [],
   "source": []
  },
  {
   "cell_type": "code",
   "execution_count": null,
   "metadata": {},
   "outputs": [],
   "source": []
  }
 ],
 "metadata": {
  "kernelspec": {
   "display_name": "Python 3 (ipykernel)",
   "language": "python",
   "name": "python3"
  },
  "language_info": {
   "codemirror_mode": {
    "name": "ipython",
    "version": 3
   },
   "file_extension": ".py",
   "mimetype": "text/x-python",
   "name": "python",
   "nbconvert_exporter": "python",
   "pygments_lexer": "ipython3",
   "version": "3.9.12"
  },
  "vscode": {
   "interpreter": {
    "hash": "5693266a11382ac3270798dcbf76e5151d5c89349378aae33407398ab404011a"
   }
  }
 },
 "nbformat": 4,
 "nbformat_minor": 2
}
